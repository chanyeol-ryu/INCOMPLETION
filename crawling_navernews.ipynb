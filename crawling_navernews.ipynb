{
 "cells": [
  {
   "cell_type": "code",
   "execution_count": 1,
   "metadata": {},
   "outputs": [],
   "source": [
    "from bs4 import BeautifulStoneSoup\n",
    "from selenium import webdriver\n",
    "from selenium.webdriver.common.by import By\n",
    "from selenium.webdriver.support.ui import WebDriverWait\n",
    "from selenium.webdriver.common.alert import Alert\n",
    "from selenium.webdriver.support import expected_conditions as EC\n",
    "import requests\n",
    "import time\n",
    "import pyautogui as pg\n",
    "\n",
    "driver = webdriver.Chrome()\n",
    "url = 'https://news.naver.com/main/ranking/popularMemo.naver'\n",
    "driver.get(url)\n"
   ]
  },
  {
   "cell_type": "code",
   "execution_count": null,
   "metadata": {},
   "outputs": [],
   "source": [
    "# 기사1\n",
    "n1 = driver.find_element(By.XPATH, '//*[@id=\"wrap\"]/div[4]/div[2]/div/div[1]/ul/li[1]/div/a')\n",
    "n1.click()\n"
   ]
  },
  {
   "cell_type": "code",
   "execution_count": null,
   "metadata": {},
   "outputs": [],
   "source": [
    "\n",
    "t1 = driver.find_element(By.XPATH, '//*[@id=\"title_area\"]/span').text\n",
    "\n",
    "if driver.find_element(By.XPATH, '//*[@id=\"cbox_module\"]/div/div/a[1]') :\n",
    "    comments_link = driver.find_element(By.XPATH, '//*[@id=\"cbox_module\"]/div/div/a[1]')\n",
    "    comments_link.click()\n",
    "else :\n",
    "    pass"
   ]
  },
  {
   "cell_type": "code",
   "execution_count": 34,
   "metadata": {},
   "outputs": [],
   "source": [
    "if driver.find_element(By.XPATH, '//*[@id=\"cbox_module\"]/div/div/a[1]') :\n",
    "    comments_link = driver.find_element(By.XPATH, '//*[@id=\"cbox_module\"]/div/div/a[1]').click()"
   ]
  },
  {
   "cell_type": "code",
   "execution_count": 8,
   "metadata": {},
   "outputs": [
    {
     "ename": "NoSuchElementException",
     "evalue": "Message: no such element: Unable to locate element: {\"method\":\"xpath\",\"selector\":\"//*[@id=\"cbox_module_wai_u_cbox_content_wrap_tabpanel\"]/ul/li[3]/div[1]/div/div[4]/div/a[1]/em\"}\n  (Session info: chrome=110.0.5481.96)\nStacktrace:\nBacktrace:\n\t(No symbol) [0x00C737D3]\n\t(No symbol) [0x00C08B81]\n\t(No symbol) [0x00B0B36D]\n\t(No symbol) [0x00B3D382]\n\t(No symbol) [0x00B3D4BB]\n\t(No symbol) [0x00B73302]\n\t(No symbol) [0x00B5B464]\n\t(No symbol) [0x00B71215]\n\t(No symbol) [0x00B5B216]\n\t(No symbol) [0x00B30D97]\n\t(No symbol) [0x00B3253D]\n\tGetHandleVerifier [0x00EEABF2+2510930]\n\tGetHandleVerifier [0x00F18EC1+2700065]\n\tGetHandleVerifier [0x00F1C86C+2714828]\n\tGetHandleVerifier [0x00D23480+645344]\n\t(No symbol) [0x00C10FD2]\n\t(No symbol) [0x00C16C68]\n\t(No symbol) [0x00C16D4B]\n\t(No symbol) [0x00C20D6B]\n\tBaseThreadInitThunk [0x76B600F9+25]\n\tRtlGetAppContainerNamedObjectPath [0x76FE7BBE+286]\n\tRtlGetAppContainerNamedObjectPath [0x76FE7B8E+238]\n",
     "output_type": "error",
     "traceback": [
      "\u001b[1;31m---------------------------------------------------------------------------\u001b[0m",
      "\u001b[1;31mNoSuchElementException\u001b[0m                    Traceback (most recent call last)",
      "Cell \u001b[1;32mIn[8], line 12\u001b[0m\n\u001b[0;32m      9\u001b[0m c2b \u001b[39m=\u001b[39m driver\u001b[39m.\u001b[39mfind_element(By\u001b[39m.\u001b[39mXPATH,\u001b[39m'\u001b[39m\u001b[39m//*[@id=\u001b[39m\u001b[39m\"\u001b[39m\u001b[39mcbox_module_wai_u_cbox_content_wrap_tabpanel\u001b[39m\u001b[39m\"\u001b[39m\u001b[39m]/ul/li[2]/div[1]/div/div[4]/div/a[2]/em\u001b[39m\u001b[39m'\u001b[39m)\u001b[39m.\u001b[39mtext\n\u001b[0;32m     11\u001b[0m c3  \u001b[39m=\u001b[39m driver\u001b[39m.\u001b[39mfind_element(By\u001b[39m.\u001b[39mXPATH,\u001b[39m'\u001b[39m\u001b[39m//*[@id=\u001b[39m\u001b[39m\"\u001b[39m\u001b[39mcbox_module_wai_u_cbox_content_wrap_tabpanel\u001b[39m\u001b[39m\"\u001b[39m\u001b[39m]/ul/li[3]/div[1]/div/div[2]/span[1]\u001b[39m\u001b[39m'\u001b[39m)\u001b[39m.\u001b[39mtext\n\u001b[1;32m---> 12\u001b[0m c3g \u001b[39m=\u001b[39m driver\u001b[39m.\u001b[39;49mfind_element(By\u001b[39m.\u001b[39;49mXPATH,\u001b[39m'\u001b[39;49m\u001b[39m//*[@id=\u001b[39;49m\u001b[39m\"\u001b[39;49m\u001b[39mcbox_module_wai_u_cbox_content_wrap_tabpanel\u001b[39;49m\u001b[39m\"\u001b[39;49m\u001b[39m]/ul/li[3]/div[1]/div/div[4]/div/a[1]/em\u001b[39;49m\u001b[39m'\u001b[39;49m)\u001b[39m.\u001b[39mtext\n\u001b[0;32m     13\u001b[0m c3b \u001b[39m=\u001b[39m driver\u001b[39m.\u001b[39mfind_element(By\u001b[39m.\u001b[39mXPATH,\u001b[39m'\u001b[39m\u001b[39m//*[@id=\u001b[39m\u001b[39m\"\u001b[39m\u001b[39mcbox_module_wai_u_cbox_content_wrap_tabpanel\u001b[39m\u001b[39m\"\u001b[39m\u001b[39m]/ul/li[3]/div[1]/div/div[4]/div/a[2]/em\u001b[39m\u001b[39m'\u001b[39m)\u001b[39m.\u001b[39mtext\n\u001b[0;32m     15\u001b[0m c4  \u001b[39m=\u001b[39m driver\u001b[39m.\u001b[39mfind_element(By\u001b[39m.\u001b[39mXPATH,\u001b[39m'\u001b[39m\u001b[39m//*[@id=\u001b[39m\u001b[39m\"\u001b[39m\u001b[39mcbox_module_wai_u_cbox_content_wrap_tabpanel\u001b[39m\u001b[39m\"\u001b[39m\u001b[39m]/ul/li[4]/div[1]/div/div[2]/span[1]\u001b[39m\u001b[39m'\u001b[39m)\u001b[39m.\u001b[39mtext\n",
      "File \u001b[1;32m~\\AppData\\Local\\Packages\\PythonSoftwareFoundation.Python.3.10_qbz5n2kfra8p0\\LocalCache\\local-packages\\Python310\\site-packages\\selenium\\webdriver\\remote\\webdriver.py:861\u001b[0m, in \u001b[0;36mWebDriver.find_element\u001b[1;34m(self, by, value)\u001b[0m\n\u001b[0;32m    858\u001b[0m     by \u001b[39m=\u001b[39m By\u001b[39m.\u001b[39mCSS_SELECTOR\n\u001b[0;32m    859\u001b[0m     value \u001b[39m=\u001b[39m \u001b[39m'\u001b[39m\u001b[39m[name=\u001b[39m\u001b[39m\"\u001b[39m\u001b[39m%s\u001b[39;00m\u001b[39m\"\u001b[39m\u001b[39m]\u001b[39m\u001b[39m'\u001b[39m \u001b[39m%\u001b[39m value\n\u001b[1;32m--> 861\u001b[0m \u001b[39mreturn\u001b[39;00m \u001b[39mself\u001b[39;49m\u001b[39m.\u001b[39;49mexecute(Command\u001b[39m.\u001b[39;49mFIND_ELEMENT, {\u001b[39m\"\u001b[39;49m\u001b[39musing\u001b[39;49m\u001b[39m\"\u001b[39;49m: by, \u001b[39m\"\u001b[39;49m\u001b[39mvalue\u001b[39;49m\u001b[39m\"\u001b[39;49m: value})[\u001b[39m\"\u001b[39m\u001b[39mvalue\u001b[39m\u001b[39m\"\u001b[39m]\n",
      "File \u001b[1;32m~\\AppData\\Local\\Packages\\PythonSoftwareFoundation.Python.3.10_qbz5n2kfra8p0\\LocalCache\\local-packages\\Python310\\site-packages\\selenium\\webdriver\\remote\\webdriver.py:444\u001b[0m, in \u001b[0;36mWebDriver.execute\u001b[1;34m(self, driver_command, params)\u001b[0m\n\u001b[0;32m    442\u001b[0m response \u001b[39m=\u001b[39m \u001b[39mself\u001b[39m\u001b[39m.\u001b[39mcommand_executor\u001b[39m.\u001b[39mexecute(driver_command, params)\n\u001b[0;32m    443\u001b[0m \u001b[39mif\u001b[39;00m response:\n\u001b[1;32m--> 444\u001b[0m     \u001b[39mself\u001b[39;49m\u001b[39m.\u001b[39;49merror_handler\u001b[39m.\u001b[39;49mcheck_response(response)\n\u001b[0;32m    445\u001b[0m     response[\u001b[39m\"\u001b[39m\u001b[39mvalue\u001b[39m\u001b[39m\"\u001b[39m] \u001b[39m=\u001b[39m \u001b[39mself\u001b[39m\u001b[39m.\u001b[39m_unwrap_value(response\u001b[39m.\u001b[39mget(\u001b[39m\"\u001b[39m\u001b[39mvalue\u001b[39m\u001b[39m\"\u001b[39m, \u001b[39mNone\u001b[39;00m))\n\u001b[0;32m    446\u001b[0m     \u001b[39mreturn\u001b[39;00m response\n",
      "File \u001b[1;32m~\\AppData\\Local\\Packages\\PythonSoftwareFoundation.Python.3.10_qbz5n2kfra8p0\\LocalCache\\local-packages\\Python310\\site-packages\\selenium\\webdriver\\remote\\errorhandler.py:249\u001b[0m, in \u001b[0;36mErrorHandler.check_response\u001b[1;34m(self, response)\u001b[0m\n\u001b[0;32m    247\u001b[0m         alert_text \u001b[39m=\u001b[39m value[\u001b[39m\"\u001b[39m\u001b[39malert\u001b[39m\u001b[39m\"\u001b[39m]\u001b[39m.\u001b[39mget(\u001b[39m\"\u001b[39m\u001b[39mtext\u001b[39m\u001b[39m\"\u001b[39m)\n\u001b[0;32m    248\u001b[0m     \u001b[39mraise\u001b[39;00m exception_class(message, screen, stacktrace, alert_text)  \u001b[39m# type: ignore[call-arg]  # mypy is not smart enough here\u001b[39;00m\n\u001b[1;32m--> 249\u001b[0m \u001b[39mraise\u001b[39;00m exception_class(message, screen, stacktrace)\n",
      "\u001b[1;31mNoSuchElementException\u001b[0m: Message: no such element: Unable to locate element: {\"method\":\"xpath\",\"selector\":\"//*[@id=\"cbox_module_wai_u_cbox_content_wrap_tabpanel\"]/ul/li[3]/div[1]/div/div[4]/div/a[1]/em\"}\n  (Session info: chrome=110.0.5481.96)\nStacktrace:\nBacktrace:\n\t(No symbol) [0x00C737D3]\n\t(No symbol) [0x00C08B81]\n\t(No symbol) [0x00B0B36D]\n\t(No symbol) [0x00B3D382]\n\t(No symbol) [0x00B3D4BB]\n\t(No symbol) [0x00B73302]\n\t(No symbol) [0x00B5B464]\n\t(No symbol) [0x00B71215]\n\t(No symbol) [0x00B5B216]\n\t(No symbol) [0x00B30D97]\n\t(No symbol) [0x00B3253D]\n\tGetHandleVerifier [0x00EEABF2+2510930]\n\tGetHandleVerifier [0x00F18EC1+2700065]\n\tGetHandleVerifier [0x00F1C86C+2714828]\n\tGetHandleVerifier [0x00D23480+645344]\n\t(No symbol) [0x00C10FD2]\n\t(No symbol) [0x00C16C68]\n\t(No symbol) [0x00C16D4B]\n\t(No symbol) [0x00C20D6B]\n\tBaseThreadInitThunk [0x76B600F9+25]\n\tRtlGetAppContainerNamedObjectPath [0x76FE7BBE+286]\n\tRtlGetAppContainerNamedObjectPath [0x76FE7B8E+238]\n"
     ]
    }
   ],
   "source": [
    "# Wait 후 댓글스크랩\n",
    "driver.implicitly_wait(time_to_wait=10)\n",
    "c1  = driver.find_element(By.XPATH,'//*[@id=\"cbox_module_wai_u_cbox_content_wrap_tabpanel\"]/ul/li[1]/div[1]/div/div[2]/span[1]').text\n",
    "c1g = driver.find_element(By.XPATH,'//*[@id=\"cbox_module_wai_u_cbox_content_wrap_tabpanel\"]/ul/li[1]/div[1]/div/div[4]/div/a[1]/em').text\n",
    "c1b = driver.find_element(By.XPATH,'//*[@id=\"cbox_module_wai_u_cbox_content_wrap_tabpanel\"]/ul/li[1]/div[1]/div/div[4]/div/a[2]/em').text\n",
    "\n",
    "c2  = driver.find_element(By.XPATH,'//*[@id=\"cbox_module_wai_u_cbox_content_wrap_tabpanel\"]/ul/li[2]/div[1]/div/div[2]/span[1]').text\n",
    "c2g = driver.find_element(By.XPATH,'//*[@id=\"cbox_module_wai_u_cbox_content_wrap_tabpanel\"]/ul/li[2]/div[1]/div/div[4]/div/a[1]/em').text\n",
    "c2b = driver.find_element(By.XPATH,'//*[@id=\"cbox_module_wai_u_cbox_content_wrap_tabpanel\"]/ul/li[2]/div[1]/div/div[4]/div/a[2]/em').text\n",
    "\n",
    "c3  = driver.find_element(By.XPATH,'//*[@id=\"cbox_module_wai_u_cbox_content_wrap_tabpanel\"]/ul/li[3]/div[1]/div/div[2]/span[1]').text\n",
    "c3g = driver.find_element(By.XPATH,'//*[@id=\"cbox_module_wai_u_cbox_content_wrap_tabpanel\"]/ul/li[3]/div[1]/div/div[4]/div/a[1]/em').text\n",
    "c3b = driver.find_element(By.XPATH,'//*[@id=\"cbox_module_wai_u_cbox_content_wrap_tabpanel\"]/ul/li[3]/div[1]/div/div[4]/div/a[2]/em').text\n",
    "\n",
    "c4  = driver.find_element(By.XPATH,'//*[@id=\"cbox_module_wai_u_cbox_content_wrap_tabpanel\"]/ul/li[4]/div[1]/div/div[2]/span[1]').text\n",
    "c4g = driver.find_element(By.XPATH,'//*[@id=\"cbox_module_wai_u_cbox_content_wrap_tabpanel\"]/ul/li[4]/div[1]/div/div[4]/div/a[1]/em').text\n",
    "c4b = driver.find_element(By.XPATH,'//*[@id=\"cbox_module_wai_u_cbox_content_wrap_tabpanel\"]/ul/li[4]/div[1]/div/div[4]/div/a[1]/em').text\n",
    "\n",
    "c5  = driver.find_element(By.XPATH,'//*[@id=\"cbox_module_wai_u_cbox_content_wrap_tabpanel\"]/ul/li[5]/div[1]/div/div[2]/span[1]').text\n",
    "c5g = driver.find_element(By.XPATH,'//*[@id=\"cbox_module_wai_u_cbox_content_wrap_tabpanel\"]/ul/li[5]/div[1]/div/div[4]/div/a[2]/em').text\n",
    "c5b = driver.find_element(By.XPATH,'//*[@id=\"cbox_module_wai_u_cbox_content_wrap_tabpanel\"]/ul/li[5]/div[1]/div/div[4]/div/a[2]/em').text\n",
    "\n",
    "\n",
    "# 정치기사는 '댓글보기' 눌러서 이동해야하고\n",
    "# '순공감순'배열이 아닌 '최신순'배열인 기사도 있다\n",
    "# 'alert 창 크기 변경 가능한지?'\n",
    "alertbox = pg.alert(title='댓글 스크랩',text='제목:{0}\\n댓글1[{1}/{2}]:{3}\\n댓글2[{4}/{5}]:{6}\\n댓글3[{7}/{8}]:{9}\\n댓글4[{10}/{11}]:{12}\\n댓글5[{13}/{14}]:{15}'.format(t1, c1g,c1b,c1, c2g,c2b,c2, c3g,c3b,c3, c4g,c4b,c4, c5g,c5b,c5),button='OK')\n"
   ]
  }
 ],
 "metadata": {
  "kernelspec": {
   "display_name": "Python 3",
   "language": "python",
   "name": "python3"
  },
  "language_info": {
   "codemirror_mode": {
    "name": "ipython",
    "version": 3
   },
   "file_extension": ".py",
   "mimetype": "text/x-python",
   "name": "python",
   "nbconvert_exporter": "python",
   "pygments_lexer": "ipython3",
   "version": "3.10.10"
  },
  "orig_nbformat": 4,
  "vscode": {
   "interpreter": {
    "hash": "e2363d440b9ec455d09e534a51693f1112f558e543fb460640be284dfaf0787b"
   }
  }
 },
 "nbformat": 4,
 "nbformat_minor": 2
}
